{
 "cells": [
  {
   "cell_type": "markdown",
   "id": "69c7f196",
   "metadata": {},
   "source": [
    "# **Spectral Index Evaluation of Land Use Compliance with the PBOT in La Ceja**\n",
    "This project aims to analyze and quantify the urban expansion in La Ceja, a municipality located in Eastern Antioquia (Colombia), between the years 2018 and 2025. Using Sentinel-2 multispectral satellite imagery, we calculate spectral indices such as NDVI (Normalized Difference Vegetation Index) and NDBI (Normalized Difference Built-up Index) to detect changes in vegetation cover and built-up areas.\n",
    "\n",
    "These spatial transformations are then compared with the urban growth zones defined in the Municipal Land Use Plan (PBOT) established by Agreement 001 of 2018. The overlay between remote sensing analysis and official planning boundaries allows us to assess whether recent urban development has occurred within legally designated areas or has exceeded regulated expansion zones.\n",
    "\n",
    "This approach provides technical evidence to support sustainable territorial management, monitor compliance with planning regulations, and inform future decision-making by local authorities. The project also explores the effectiveness of remote sensing as a tool for land-use monitoring in rapidly growing intermediate municipalities.\n"
   ]
  },
  {
   "cell_type": "markdown",
   "id": "43f0c751",
   "metadata": {},
   "source": [
    "## Libraries and necessary packs"
   ]
  },
  {
   "cell_type": "code",
   "execution_count": 19,
   "id": "439f0fd1",
   "metadata": {},
   "outputs": [],
   "source": [
    "import rasterio\n",
    "import numpy as np\n",
    "import matplotlib.pyplot as plt\n",
    "from matplotlib.colors import ListedColormap\n",
    "import pandas as pd\n",
    "import seaborn as sns\n",
    "import geopandas as gpd\n",
    "from pathlib import Path\n",
    "import glob\n",
    "import os\n",
    "from tqdm import tqdm\n",
    "from IPython.display import display"
   ]
  },
  {
   "cell_type": "markdown",
   "id": "70408330",
   "metadata": {},
   "source": [
    "## Upload and stack verification\n",
    "\n",
    "Code to verify the content of archives \".tif\", it makes the band decomposition, index and description of each one"
   ]
  },
  {
   "cell_type": "code",
   "execution_count": 21,
   "id": "f36d94f6",
   "metadata": {},
   "outputs": [
    {
     "name": "stdout",
     "output_type": "stream",
     "text": [
      "File: 2018-08-07_stack3.tif\n",
      "Number of bands: 3\n",
      "Available index from bands: (1, 2, 3)\n",
      "Band 1: NDVI\n",
      "Band 2: NDBI\n",
      "Band 3: UI\n",
      "----------------------------------------\n",
      "File: 2019-01-04_stack3.tif\n",
      "Number of bands: 3\n",
      "Available index from bands: (1, 2, 3)\n",
      "Band 1: NDVI\n",
      "Band 2: NDBI\n",
      "Band 3: UI\n",
      "----------------------------------------\n",
      "File: 2019-07-18_stack3.tif\n",
      "Number of bands: 3\n",
      "Available index from bands: (1, 2, 3)\n",
      "Band 1: NDVI\n",
      "Band 2: NDBI\n",
      "Band 3: UI\n",
      "----------------------------------------\n",
      "File: 2019-08-27_stack3.tif\n",
      "Number of bands: 3\n",
      "Available index from bands: (1, 2, 3)\n",
      "Band 1: NDVI\n",
      "Band 2: NDBI\n",
      "Band 3: UI\n",
      "----------------------------------------\n",
      "File: 2020-01-09_stack3.tif\n",
      "Number of bands: 3\n",
      "Available index from bands: (1, 2, 3)\n",
      "Band 1: NDVI\n",
      "Band 2: NDBI\n",
      "Band 3: UI\n",
      "----------------------------------------\n",
      "File: 2020-02-18_stack3.tif\n",
      "Number of bands: 3\n",
      "Available index from bands: (1, 2, 3)\n",
      "Band 1: NDVI\n",
      "Band 2: NDBI\n",
      "Band 3: UI\n",
      "----------------------------------------\n",
      "File: 2023-08-26_stack3.tif\n",
      "Number of bands: 3\n",
      "Available index from bands: (1, 2, 3)\n",
      "Band 1: NDVI\n",
      "Band 2: NDBI\n",
      "Band 3: UI\n",
      "----------------------------------------\n"
     ]
    }
   ],
   "source": [
    "import rasterio\n",
    "import os\n",
    "\n",
    "stack_dir = \"./carpeta_stacks\" # Stacks directory\n",
    "for filename in os.listdir(stack_dir):\n",
    "    if filename.endswith(\".tif\"):\n",
    "        file_path = os.path.join(stack_dir, filename)\n",
    "        with rasterio.open(file_path) as src_file:\n",
    "            print(f\"File: {filename}\")\n",
    "            print(\"Number of bands:\", src_file.count)\n",
    "            print(\"Available index from bands:\", src_file.indexes)\n",
    "            desc = src_file.descriptions\n",
    "            if desc is None:\n",
    "                print(\"No descriptions available.\")\n",
    "            else:\n",
    "                for idx, d in enumerate(desc, start=1):\n",
    "                    print(f\"Band {idx}: {d}\")\n",
    "            print(\"-\" * 40) # Separator for clarity\n"
   ]
  },
  {
   "cell_type": "markdown",
   "id": "adf30c59",
   "metadata": {},
   "source": [
    "This section loads our training points from the GeoPackage \"muestras_training.gpkg\" obtained with QGIS previously (\"points_training\" layer), finds all multiband GeoTIFF “stacks” (each containing NDVI, NDBI and UI bands), and samples those three index values at every training point location.  \n",
    "\n",
    "- **Load**: Read the \"points_training\" layer with GeoPandas.  \n",
    "- **List**: Use \"glob\" to locate all stack files matching the given pattern.  \n",
    "- **Sample**: For each stack, open it with Rasterio and sample the NDVI, NDBI, and UI bands at each point’s (x, y).  \n",
    "- **Assemble**: Build a single pandas \"DataFrame\" (\"df_samples\") with columns:\n",
    "  - `raster_date`: scene date (parsed from filename)  \n",
    "  - `point_date`: original sampling date  \n",
    "  - `label`: land-cover class  \n",
    "  - `x`, `y`: point coordinates  \n",
    "  - `NDVI`, `NDBI`, `UI`: extracted index values  \n",
    "- **Inspect**: Print dimensions and display the first few rows to verify the results.\n"
   ]
  },
  {
   "cell_type": "code",
   "execution_count": 22,
   "id": "85a247cd",
   "metadata": {},
   "outputs": [
    {
     "name": "stdout",
     "output_type": "stream",
     "text": [
      "find 7 stacks:\n",
      " • ./carpeta_stacks\\2018-08-07_stack3.tif\n",
      " • ./carpeta_stacks\\2019-01-04_stack3.tif\n",
      " • ./carpeta_stacks\\2019-07-18_stack3.tif\n",
      " • ./carpeta_stacks\\2019-08-27_stack3.tif\n",
      " • ./carpeta_stacks\\2020-01-09_stack3.tif\n",
      " • ./carpeta_stacks\\2020-02-18_stack3.tif\n",
      " • ./carpeta_stacks\\2023-08-26_stack3.tif\n"
     ]
    },
    {
     "name": "stderr",
     "output_type": "stream",
     "text": [
      "Procesing stacks: 100%|██████████| 7/7 [00:04<00:00,  1.45it/s]"
     ]
    },
    {
     "name": "stdout",
     "output_type": "stream",
     "text": [
      "\n",
      "DataFrame dimension: (52920, 8)\n",
      "Columns: ['raster_date', 'point_date', 'label', 'x', 'y', 'NDVI', 'NDBI', 'UI']\n"
     ]
    },
    {
     "name": "stderr",
     "output_type": "stream",
     "text": [
      "\n"
     ]
    },
    {
     "data": {
      "text/html": [
       "<div>\n",
       "<style scoped>\n",
       "    .dataframe tbody tr th:only-of-type {\n",
       "        vertical-align: middle;\n",
       "    }\n",
       "\n",
       "    .dataframe tbody tr th {\n",
       "        vertical-align: top;\n",
       "    }\n",
       "\n",
       "    .dataframe thead th {\n",
       "        text-align: right;\n",
       "    }\n",
       "</style>\n",
       "<table border=\"1\" class=\"dataframe\">\n",
       "  <thead>\n",
       "    <tr style=\"text-align: right;\">\n",
       "      <th></th>\n",
       "      <th>raster_date</th>\n",
       "      <th>point_date</th>\n",
       "      <th>label</th>\n",
       "      <th>x</th>\n",
       "      <th>y</th>\n",
       "      <th>NDVI</th>\n",
       "      <th>NDBI</th>\n",
       "      <th>UI</th>\n",
       "    </tr>\n",
       "  </thead>\n",
       "  <tbody>\n",
       "    <tr>\n",
       "      <th>0</th>\n",
       "      <td>2018-08-07_stack3</td>\n",
       "      <td>2019-07-18</td>\n",
       "      <td>1</td>\n",
       "      <td>-75.428738</td>\n",
       "      <td>6.030611</td>\n",
       "      <td>0.113764</td>\n",
       "      <td>0.151539</td>\n",
       "      <td>0.142384</td>\n",
       "    </tr>\n",
       "    <tr>\n",
       "      <th>1</th>\n",
       "      <td>2018-08-07_stack3</td>\n",
       "      <td>2019-07-18</td>\n",
       "      <td>1</td>\n",
       "      <td>-75.431324</td>\n",
       "      <td>6.032770</td>\n",
       "      <td>0.144415</td>\n",
       "      <td>0.165567</td>\n",
       "      <td>0.068236</td>\n",
       "    </tr>\n",
       "    <tr>\n",
       "      <th>2</th>\n",
       "      <td>2018-08-07_stack3</td>\n",
       "      <td>2019-07-18</td>\n",
       "      <td>1</td>\n",
       "      <td>-75.431388</td>\n",
       "      <td>6.036990</td>\n",
       "      <td>0.211147</td>\n",
       "      <td>0.009404</td>\n",
       "      <td>-0.914724</td>\n",
       "    </tr>\n",
       "    <tr>\n",
       "      <th>3</th>\n",
       "      <td>2018-08-07_stack3</td>\n",
       "      <td>2019-07-18</td>\n",
       "      <td>1</td>\n",
       "      <td>-75.429235</td>\n",
       "      <td>6.033183</td>\n",
       "      <td>0.088880</td>\n",
       "      <td>0.204575</td>\n",
       "      <td>0.394252</td>\n",
       "    </tr>\n",
       "    <tr>\n",
       "      <th>4</th>\n",
       "      <td>2018-08-07_stack3</td>\n",
       "      <td>2019-07-18</td>\n",
       "      <td>1</td>\n",
       "      <td>-75.437057</td>\n",
       "      <td>6.025213</td>\n",
       "      <td>0.071481</td>\n",
       "      <td>0.167425</td>\n",
       "      <td>0.401596</td>\n",
       "    </tr>\n",
       "    <tr>\n",
       "      <th>5</th>\n",
       "      <td>2018-08-07_stack3</td>\n",
       "      <td>2019-07-18</td>\n",
       "      <td>1</td>\n",
       "      <td>-75.428785</td>\n",
       "      <td>6.031378</td>\n",
       "      <td>0.146936</td>\n",
       "      <td>0.229016</td>\n",
       "      <td>0.218325</td>\n",
       "    </tr>\n",
       "    <tr>\n",
       "      <th>6</th>\n",
       "      <td>2018-08-07_stack3</td>\n",
       "      <td>2019-07-18</td>\n",
       "      <td>1</td>\n",
       "      <td>-75.432873</td>\n",
       "      <td>6.027233</td>\n",
       "      <td>0.023427</td>\n",
       "      <td>0.117285</td>\n",
       "      <td>0.667015</td>\n",
       "    </tr>\n",
       "    <tr>\n",
       "      <th>7</th>\n",
       "      <td>2018-08-07_stack3</td>\n",
       "      <td>2019-07-18</td>\n",
       "      <td>1</td>\n",
       "      <td>-75.442700</td>\n",
       "      <td>6.020924</td>\n",
       "      <td>0.229805</td>\n",
       "      <td>-0.004953</td>\n",
       "      <td>-1.000000</td>\n",
       "    </tr>\n",
       "    <tr>\n",
       "      <th>8</th>\n",
       "      <td>2018-08-07_stack3</td>\n",
       "      <td>2019-07-18</td>\n",
       "      <td>1</td>\n",
       "      <td>-75.435093</td>\n",
       "      <td>6.033707</td>\n",
       "      <td>0.280773</td>\n",
       "      <td>0.156348</td>\n",
       "      <td>-0.284644</td>\n",
       "    </tr>\n",
       "    <tr>\n",
       "      <th>9</th>\n",
       "      <td>2018-08-07_stack3</td>\n",
       "      <td>2019-07-18</td>\n",
       "      <td>1</td>\n",
       "      <td>-75.438681</td>\n",
       "      <td>6.020314</td>\n",
       "      <td>0.124764</td>\n",
       "      <td>0.187344</td>\n",
       "      <td>0.200508</td>\n",
       "    </tr>\n",
       "  </tbody>\n",
       "</table>\n",
       "</div>"
      ],
      "text/plain": [
       "         raster_date  point_date  label          x         y      NDVI  \\\n",
       "0  2018-08-07_stack3  2019-07-18      1 -75.428738  6.030611  0.113764   \n",
       "1  2018-08-07_stack3  2019-07-18      1 -75.431324  6.032770  0.144415   \n",
       "2  2018-08-07_stack3  2019-07-18      1 -75.431388  6.036990  0.211147   \n",
       "3  2018-08-07_stack3  2019-07-18      1 -75.429235  6.033183  0.088880   \n",
       "4  2018-08-07_stack3  2019-07-18      1 -75.437057  6.025213  0.071481   \n",
       "5  2018-08-07_stack3  2019-07-18      1 -75.428785  6.031378  0.146936   \n",
       "6  2018-08-07_stack3  2019-07-18      1 -75.432873  6.027233  0.023427   \n",
       "7  2018-08-07_stack3  2019-07-18      1 -75.442700  6.020924  0.229805   \n",
       "8  2018-08-07_stack3  2019-07-18      1 -75.435093  6.033707  0.280773   \n",
       "9  2018-08-07_stack3  2019-07-18      1 -75.438681  6.020314  0.124764   \n",
       "\n",
       "       NDBI        UI  \n",
       "0  0.151539  0.142384  \n",
       "1  0.165567  0.068236  \n",
       "2  0.009404 -0.914724  \n",
       "3  0.204575  0.394252  \n",
       "4  0.167425  0.401596  \n",
       "5  0.229016  0.218325  \n",
       "6  0.117285  0.667015  \n",
       "7 -0.004953 -1.000000  \n",
       "8  0.156348 -0.284644  \n",
       "9  0.187344  0.200508  "
      ]
     },
     "metadata": {},
     "output_type": "display_data"
    }
   ],
   "source": [
    "# Parameters\n",
    "gpkg_path = './carpeta_stacks/muestras_training.gpkg'\n",
    "layer_name = 'points_training'\n",
    "stacks_path_pattern = './carpeta_stacks/*.tif'\n",
    "\n",
    "# 1) Upload and verify training points\n",
    "gdf = gpd.read_file(gpkg_path, layer=layer_name)\n",
    "coords = [(pt.x, pt.y) for pt in gdf.geometry]\n",
    "\n",
    "# 2) List all raster files matching the pattern\n",
    "raster_files = sorted(glob.glob(stacks_path_pattern))\n",
    "print(f\"find {len(raster_files)} stacks:\")\n",
    "for fp in raster_files:\n",
    "    print(\" •\", fp)\n",
    "\n",
    "# 3) Get samples from each raster stack\n",
    "records = []\n",
    "for rf in tqdm(raster_files, desc=\"Procesing stacks\"):\n",
    "    date_str = os.path.splitext(os.path.basename(rf))[0]\n",
    "    with rasterio.open(rf) as src:\n",
    "        samples = list(src.sample(coords))\n",
    "        for (ndvi, ndbi, ui), row in zip(samples, gdf.itertuples()):\n",
    "            records.append({\n",
    "                'raster_date': date_str,\n",
    "                'point_date': row.date,\n",
    "                'label': row.label,\n",
    "                'x': row.geometry.x,\n",
    "                'y': row.geometry.y,\n",
    "                'NDVI': ndvi,\n",
    "                'NDBI': ndbi,\n",
    "                'UI': ui\n",
    "            })\n",
    "\n",
    "# 4) build a DataFrame from the records\n",
    "df_samples = pd.DataFrame.from_records(records)\n",
    "\n",
    "# 5) Display the DataFrame\n",
    "print(\"\\nDataFrame dimension:\", df_samples.shape)\n",
    "print(\"Columns:\", df_samples.columns.tolist())\n",
    "display(df_samples.head(10))"
   ]
  },
  {
   "cell_type": "markdown",
   "id": "30622847",
   "metadata": {},
   "source": [
    "This section takes the raw samples and prepares them for model training by:\n",
    "\n",
    "1. **Temporal Alignment**  \n",
    "   - Convert both `raster_date` and `point_date` to `datetime`.  \n",
    "   - Filter to keep only the records where the raster scene date exactly matches the point’s sampling date.  \n",
    "   - Result: one record per point, exactly on the correct acquisition date.\n",
    "\n",
    "2. **Missing-Value Handling**  \n",
    "   - Report any NaNs in the `NDVI`, `NDBI`, or `UI` columns (e.g. due to cloud cover).  \n",
    "   - Drop any samples with missing index values.\n",
    "\n",
    "3. **Distribution Check**  \n",
    "   - Plot boxplots of each index (`NDVI`, `NDBI`, `UI`) grouped by class label.  \n",
    "   - Quickly visualize overlap or separation between classes as a sanity check before training.\n"
   ]
  },
  {
   "cell_type": "code",
   "execution_count": 23,
   "id": "b936edad",
   "metadata": {},
   "outputs": [
    {
     "name": "stdout",
     "output_type": "stream",
     "text": [
      "Records with matching date: (7560, 8)\n"
     ]
    }
   ],
   "source": [
    "# 1) Normalize date formats\n",
    "# Convert 'raster_date' to datetime, removing '_stack3' suffix\n",
    "df_samples['raster_date'] = pd.to_datetime(\n",
    "    df_samples['raster_date'].str.replace('_stack3',''),\n",
    "    format='%Y-%m-%d'\n",
    ")\n",
    "df_samples['point_date']   = pd.to_datetime(df_samples['point_date'])\n",
    "\n",
    "# 2) Filter samples with matching dates\n",
    "# This will keep only the rows where 'raster_date' matches 'point_date'\n",
    "df_matched = df_samples[\n",
    "    df_samples['raster_date'] == df_samples['point_date']\n",
    "].copy()\n",
    "\n",
    "print(\"Records with matching date:\", df_matched.shape)"
   ]
  },
  {
   "cell_type": "code",
   "execution_count": 24,
   "id": "d42d8b89",
   "metadata": {},
   "outputs": [
    {
     "name": "stdout",
     "output_type": "stream",
     "text": [
      "Missing values per column:\n",
      " raster_date    0\n",
      "point_date     0\n",
      "label          0\n",
      "x              0\n",
      "y              0\n",
      "NDVI           0\n",
      "NDBI           0\n",
      "UI             0\n",
      "dtype: int64\n"
     ]
    }
   ],
   "source": [
    "print(\"Missing values per column:\\n\", df_matched.isna().sum())\n",
    "df_clean = df_matched.dropna(subset=['NDVI','NDBI','UI'])"
   ]
  },
  {
   "cell_type": "code",
   "execution_count": 25,
   "id": "6d5d9bac",
   "metadata": {},
   "outputs": [
    {
     "data": {
      "text/plain": [
       "<Figure size 640x480 with 0 Axes>"
      ]
     },
     "metadata": {},
     "output_type": "display_data"
    },
    {
     "data": {
      "image/png": "[encoded data removed]",
      "text/plain": [
       "<Figure size 640x480 with 1 Axes>"
      ]
     },
     "metadata": {},
     "output_type": "display_data"
    },
    {
     "data": {
      "text/plain": [
       "<Figure size 640x480 with 0 Axes>"
      ]
     },
     "metadata": {},
     "output_type": "display_data"
    },
    {
     "data": {
      "image/png": "[encoded data removed]",
      "text/plain": [
       "<Figure size 640x480 with 1 Axes>"
      ]
     },
     "metadata": {},
     "output_type": "display_data"
    },
    {
     "data": {
      "text/plain": [
       "<Figure size 640x480 with 0 Axes>"
      ]
     },
     "metadata": {},
     "output_type": "display_data"
    },
    {
     "data": {
      "image/png": "[encoded data removed]",
      "text/plain": [
       "<Figure size 640x480 with 1 Axes>"
      ]
     },
     "metadata": {},
     "output_type": "display_data"
    }
   ],
   "source": [
    "for idx in ['NDVI','NDBI','UI']:\n",
    "    plt.figure()\n",
    "    df_clean.boxplot(column=idx, by='label')\n",
    "    plt.title(f'Distribution of {idx} by class')\n",
    "    plt.suptitle('')\n",
    "    plt.show()"
   ]
  },
  {
   "cell_type": "markdown",
   "id": "410a34d4",
   "metadata": {},
   "source": [
    "### Temporal Train/Validation Split\n",
    "\n",
    "This code segments your dataset based on acquisition dates, ensuring that the model is trained on earlier scenes and tested on later scenes to prevent temporal leakage."
   ]
  },
  {
   "cell_type": "code",
   "execution_count": 28,
   "id": "5a8e0c48",
   "metadata": {},
   "outputs": [
    {
     "name": "stdout",
     "output_type": "stream",
     "text": [
      "Train set: 5400 samples from dates [Timestamp('2018-08-07 00:00:00'), Timestamp('2019-01-04 00:00:00'), Timestamp('2019-07-18 00:00:00'), Timestamp('2019-08-27 00:00:00'), Timestamp('2020-01-09 00:00:00')]\n",
      "Val   set: 2160 samples from dates [Timestamp('2020-02-18 00:00:00'), Timestamp('2023-08-26 00:00:00')]\n",
      "\n",
      "Train class counts:\n",
      " label\n",
      "0    2800\n",
      "1    2600\n",
      "Name: count, dtype: int64\n",
      "\n",
      "Val class counts:\n",
      " label\n",
      "0    1120\n",
      "1    1040\n",
      "Name: count, dtype: int64\n"
     ]
    }
   ],
   "source": [
    "# 1) Get sorted unique scene dates\n",
    "unique_dates = sorted(df_clean['raster_date'].unique())\n",
    "\n",
    "# 2) Define train vs. validation dates\n",
    "train_dates = unique_dates[:5]   # first 5 scenes\n",
    "val_dates   = unique_dates[5:]   # last 2 scenes\n",
    "\n",
    "# 3) Subset your DataFrame\n",
    "df_train = df_clean[df_clean['raster_date'].isin(train_dates)].copy()\n",
    "df_val   = df_clean[df_clean['raster_date'].isin(val_dates)].copy()\n",
    "\n",
    "# 4) Split into features and labels\n",
    "features = ['NDVI','NDBI','UI']\n",
    "X_train, y_train = df_train[features], df_train['label']\n",
    "X_val,   y_val   = df_val[features],   df_val['label']\n",
    "\n",
    "# 5) Check sizes and class balance\n",
    "print(f\"Train set: {X_train.shape[0]} samples from dates {train_dates}\")\n",
    "print(f\"Val   set: {X_val.shape[0]} samples from dates {val_dates}\")\n",
    "print(\"\\nTrain class counts:\\n\", y_train.value_counts())\n",
    "print(\"\\nVal class counts:\\n\",   y_val.value_counts())\n"
   ]
  },
  {
   "cell_type": "markdown",
   "id": "abefc24e",
   "metadata": {},
   "source": [
    "### Model Training and Evaluation\n",
    "\n",
    "We train a Random Forest classifier on the temporally split training data and evaluate its performance on the held-out validation set."
   ]
  },
  {
   "cell_type": "code",
   "execution_count": 29,
   "id": "9036632e",
   "metadata": {},
   "outputs": [],
   "source": [
    "# Libraries for model training and evaluation\n",
    "from sklearn.ensemble import RandomForestClassifier\n",
    "from sklearn.metrics import accuracy_score, confusion_matrix, classification_report"
   ]
  },
  {
   "cell_type": "code",
   "execution_count": 32,
   "id": "07b98223",
   "metadata": {},
   "outputs": [
    {
     "name": "stdout",
     "output_type": "stream",
     "text": [
      "Model training complete.\n",
      "Predictions on validation set generated.\n",
      "Validation Accuracy: 0.844\n",
      "\n",
      "Confusion Matrix:\n",
      "[[924 196]\n",
      " [141 899]]\n",
      "\n",
      "Classification Report:\n",
      "              precision    recall  f1-score   support\n",
      "\n",
      "           0       0.87      0.82      0.85      1120\n",
      "           1       0.82      0.86      0.84      1040\n",
      "\n",
      "    accuracy                           0.84      2160\n",
      "   macro avg       0.84      0.84      0.84      2160\n",
      "weighted avg       0.85      0.84      0.84      2160\n",
      "\n"
     ]
    }
   ],
   "source": [
    "# 1) Initialize the Random Forest classifier\n",
    "#    - 100 trees, no maximum depth (let the trees grow fully)\n",
    "#    - Use all CPU cores for speed (n_jobs=-1)\n",
    "clf = RandomForestClassifier(\n",
    "    n_estimators=100,\n",
    "    max_depth=None,\n",
    "    random_state=42,\n",
    "    n_jobs=-1\n",
    ")\n",
    "\n",
    "# 2) Fit the model on the training data\n",
    "#    X_train: features ['NDVI','NDBI','UI']\n",
    "#    y_train: labels (0 or 1)\n",
    "clf.fit(X_train, y_train)\n",
    "print(\"Model training complete.\")\n",
    "\n",
    "# 3) Make predictions on the validation set\n",
    "y_pred = clf.predict(X_val)\n",
    "print(\"Predictions on validation set generated.\")\n",
    "\n",
    "# 4. Compute accuracy\n",
    "accuracy = accuracy_score(y_val, y_pred)\n",
    "print(f\"Validation Accuracy: {accuracy:.3f}\")\n",
    "\n",
    "# 5. Display confusion matrix\n",
    "cm = confusion_matrix(y_val, y_pred)\n",
    "print(\"\\nConfusion Matrix:\")\n",
    "print(cm)\n",
    "\n",
    "# 6. Show full classification report (precision, recall, f1-score)\n",
    "report = classification_report(y_val, y_pred)\n",
    "print(\"\\nClassification Report:\")\n",
    "print(report)"
   ]
  },
  {
   "cell_type": "markdown",
   "id": "014557a3",
   "metadata": {},
   "source": [
    "### Results Summary\n",
    "\n",
    "The Random Forest model trained on spectral indices (NDVI, NDBI, and UI) achieved an **overall accuracy** of **84.4%** on the validation set, meaning it correctly classified **84.4%** of the 2,160 unseen samples.\n",
    "\n",
    "The **confusion matrix** shows:\n",
    "- **924 of 1,120** vegetation points (class 0) were identified correctly, while **196** were misclassified as urban.\n",
    "- **899 of 1,040** urban points (class 1) were identified correctly, while **141** were labeled as vegetation.\n",
    "\n",
    "These counts of correct and incorrect predictions demonstrate a good balance: the model reliably captures both classes without bias.\n",
    "\n",
    "The **classification report** provides per-class metrics:\n",
    "- **Precision**: the fraction of positive predictions that are actually correct.\n",
    "- **Recall**: the fraction of actual positives that the model correctly identifies.\n",
    "- **F1-score**: the harmonic mean of precision and recall, penalizing both false positives and false negatives.\n",
    "- **Support**: the number of true instances for each class.\n",
    "\n",
    "In this case, the F1-scores for both class 0 and class 1 are around **0.84–0.85**, confirming balanced and robust performance in distinguishing vegetation from urban areas on dates the model has never seen."
   ]
  },
  {
   "cell_type": "code",
   "execution_count": null,
   "id": "4c5f7449",
   "metadata": {},
   "outputs": [],
   "source": []
  }
 ],
 "metadata": {
  "kernelspec": {
   "display_name": "Python 3",
   "language": "python",
   "name": "python3"
  },
  "language_info": {
   "codemirror_mode": {
    "name": "ipython",
    "version": 3
   },
   "file_extension": ".py",
   "mimetype": "text/x-python",
   "name": "python",
   "nbconvert_exporter": "python",
   "pygments_lexer": "ipython3",
   "version": "3.13.3"
  }
 },
 "nbformat": 4,
 "nbformat_minor": 5
}
