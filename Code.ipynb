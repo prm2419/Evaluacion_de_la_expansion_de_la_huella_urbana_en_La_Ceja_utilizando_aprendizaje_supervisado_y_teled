{
 "cells": [
  {
   "cell_type": "markdown",
   "id": "69c7f196",
   "metadata": {},
   "source": [
    "# **Spectral Index Evaluation of Land Use Compliance with the PBOT in La Ceja**\n",
    "This project aims to analyze and quantify the urban expansion in La Ceja, a municipality located in Eastern Antioquia (Colombia), between the years 2018 and 2025. Using Sentinel-2 multispectral satellite imagery, we calculate spectral indices such as NDVI (Normalized Difference Vegetation Index) and NDBI (Normalized Difference Built-up Index) to detect changes in vegetation cover and built-up areas.\n",
    "\n",
    "These spatial transformations are then compared with the urban growth zones defined in the Municipal Land Use Plan (PBOT) established by Agreement 001 of 2018. The overlay between remote sensing analysis and official planning boundaries allows us to assess whether recent urban development has occurred within legally designated areas or has exceeded regulated expansion zones.\n",
    "\n",
    "This approach provides technical evidence to support sustainable territorial management, monitor compliance with planning regulations, and inform future decision-making by local authorities. The project also explores the effectiveness of remote sensing as a tool for land-use monitoring in rapidly growing intermediate municipalities.\n"
   ]
  },
  {
   "cell_type": "markdown",
   "id": "43f0c751",
   "metadata": {},
   "source": [
    "## Libraries and necessary packs"
   ]
  },
  {
   "cell_type": "code",
   "execution_count": 1,
   "id": "439f0fd1",
   "metadata": {},
   "outputs": [],
   "source": [
    "import rasterio\n",
    "import numpy as np\n",
    "import matplotlib.pyplot as plt\n",
    "from matplotlib.colors import ListedColormap\n",
    "import pandas as pd\n",
    "import seaborn as sns"
   ]
  },
  {
   "cell_type": "markdown",
   "id": "70408330",
   "metadata": {},
   "source": [
    "## Upload and stack verification\n",
    "\n",
    "Code to verify the content of archives \".tif\", it makes the band decomposition, index and description of each one"
   ]
  },
  {
   "cell_type": "code",
   "execution_count": null,
   "id": "f36d94f6",
   "metadata": {},
   "outputs": [
    {
     "name": "stdout",
     "output_type": "stream",
     "text": [
      "Archivo: 2018-08-07_stack3.tif\n",
      "Número de bandas: 3\n",
      "Índices de banda disponibles: (1, 2, 3)\n",
      "Banda 1: NDVI\n",
      "Banda 2: NDBI\n",
      "Banda 3: UI\n",
      "----------------------------------------\n",
      "Archivo: 2019-01-04_stack3.tif\n",
      "Número de bandas: 3\n",
      "Índices de banda disponibles: (1, 2, 3)\n",
      "Banda 1: NDVI\n",
      "Banda 2: NDBI\n",
      "Banda 3: UI\n",
      "----------------------------------------\n",
      "Archivo: 2019-07-18_stack3.tif\n",
      "Número de bandas: 3\n",
      "Índices de banda disponibles: (1, 2, 3)\n",
      "Banda 1: NDVI\n",
      "Banda 2: NDBI\n",
      "Banda 3: UI\n",
      "----------------------------------------\n",
      "Archivo: 2019-08-27_stack3.tif\n",
      "Número de bandas: 3\n",
      "Índices de banda disponibles: (1, 2, 3)\n",
      "Banda 1: NDVI\n",
      "Banda 2: NDBI\n",
      "Banda 3: UI\n",
      "----------------------------------------\n",
      "Archivo: 2020-01-09_stack3.tif\n",
      "Número de bandas: 3\n",
      "Índices de banda disponibles: (1, 2, 3)\n",
      "Banda 1: NDVI\n",
      "Banda 2: NDBI\n",
      "Banda 3: UI\n",
      "----------------------------------------\n",
      "Archivo: 2020-02-18_stack3.tif\n",
      "Número de bandas: 3\n",
      "Índices de banda disponibles: (1, 2, 3)\n",
      "Banda 1: NDVI\n",
      "Banda 2: NDBI\n",
      "Banda 3: UI\n",
      "----------------------------------------\n",
      "Archivo: 2023-08-26_stack3.tif\n",
      "Número de bandas: 3\n",
      "Índices de banda disponibles: (1, 2, 3)\n",
      "Banda 1: NDVI\n",
      "Banda 2: NDBI\n",
      "Banda 3: UI\n",
      "----------------------------------------\n"
     ]
    }
   ],
   "source": [
    "import rasterio\n",
    "import os\n",
    "\n",
    "stack_dir = \"./carpeta_stacks\" # Stacks directory\n",
    "for filename in os.listdir(stack_dir):\n",
    "    if filename.endswith(\".tif\"):\n",
    "        file_path = os.path.join(stack_dir, filename)\n",
    "        with rasterio.open(file_path) as src_file:\n",
    "            print(f\"Archivo: {filename}\")\n",
    "            print(\"Número de bandas:\", src_file.count)\n",
    "            print(\"Índices de banda disponibles:\", src_file.indexes)\n",
    "            desc = src_file.descriptions\n",
    "            if desc is None:\n",
    "                print(\"No hay descripciones de banda asociadas.\")\n",
    "            else:\n",
    "                for idx, d in enumerate(desc, start=1):\n",
    "                    print(f\"Banda {idx}: {d}\")\n",
    "            print(\"-\" * 40) # Separator for clarity\n"
   ]
  },
  {
   "cell_type": "code",
   "execution_count": null,
   "id": "85a247cd",
   "metadata": {},
   "outputs": [],
   "source": []
  }
 ],
 "metadata": {
  "kernelspec": {
   "display_name": "Python 3",
   "language": "python",
   "name": "python3"
  },
  "language_info": {
   "codemirror_mode": {
    "name": "ipython",
    "version": 3
   },
   "file_extension": ".py",
   "mimetype": "text/x-python",
   "name": "python",
   "nbconvert_exporter": "python",
   "pygments_lexer": "ipython3",
   "version": "3.13.3"
  }
 },
 "nbformat": 4,
 "nbformat_minor": 5
}
