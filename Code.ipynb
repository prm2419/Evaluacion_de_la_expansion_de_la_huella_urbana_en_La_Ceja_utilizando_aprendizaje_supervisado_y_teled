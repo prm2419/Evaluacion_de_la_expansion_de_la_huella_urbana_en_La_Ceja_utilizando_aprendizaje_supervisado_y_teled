{
 "cells": [
  {
   "cell_type": "markdown",
   "id": "69c7f196",
   "metadata": {},
   "source": [
    "# **Spectral Index Evaluation of Land Use Compliance with the PBOT in La Ceja**\n",
    "This project aims to analyze and quantify the urban expansion in La Ceja, a municipality located in Eastern Antioquia (Colombia), between the years 2018 and 2025. Using Sentinel-2 multispectral satellite imagery, we calculate spectral indices such as NDVI (Normalized Difference Vegetation Index) and NDBI (Normalized Difference Built-up Index) to detect changes in vegetation cover and built-up areas.\n",
    "\n",
    "These spatial transformations are then compared with the urban growth zones defined in the Municipal Land Use Plan (PBOT) established by Agreement 001 of 2018. The overlay between remote sensing analysis and official planning boundaries allows us to assess whether recent urban development has occurred within legally designated areas or has exceeded regulated expansion zones.\n",
    "\n",
    "This approach provides technical evidence to support sustainable territorial management, monitor compliance with planning regulations, and inform future decision-making by local authorities. The project also explores the effectiveness of remote sensing as a tool for land-use monitoring in rapidly growing intermediate municipalities.\n"
   ]
  },
  {
   "cell_type": "markdown",
   "id": "797ace45",
   "metadata": {},
   "source": [
    "## CORTE DE LAS IMAGÉNES "
   ]
  },
  {
   "cell_type": "code",
   "execution_count": 2,
   "id": "8d61acac",
   "metadata": {},
   "outputs": [
    {
     "ename": "FileNotFoundError",
     "evalue": "[WinError 3] El sistema no puede encontrar la ruta especificada: 'carpeta_b4'",
     "output_type": "error",
     "traceback": [
      "\u001b[31m---------------------------------------------------------------------------\u001b[39m",
      "\u001b[31mFileNotFoundError\u001b[39m                         Traceback (most recent call last)",
      "\u001b[36mCell\u001b[39m\u001b[36m \u001b[39m\u001b[32mIn[2]\u001b[39m\u001b[32m, line 52\u001b[39m\n\u001b[32m     49\u001b[39m             dest.write(out_image)\n\u001b[32m     51\u001b[39m \u001b[38;5;66;03m# === PROCESAMIENTO ===\u001b[39;00m\n\u001b[32m---> \u001b[39m\u001b[32m52\u001b[39m \u001b[38;5;28;01mfor\u001b[39;00m archivo_b4 \u001b[38;5;129;01min\u001b[39;00m \u001b[43mos\u001b[49m\u001b[43m.\u001b[49m\u001b[43mlistdir\u001b[49m\u001b[43m(\u001b[49m\u001b[43mfolder_b4\u001b[49m\u001b[43m)\u001b[49m:\n\u001b[32m     53\u001b[39m     \u001b[38;5;28;01mif\u001b[39;00m archivo_b4.endswith(\u001b[33m\"\u001b[39m\u001b[33m.TIF\u001b[39m\u001b[33m\"\u001b[39m):\n\u001b[32m     54\u001b[39m         ruta_b4 = os.path.join(folder_b4, archivo_b4)\n",
      "\u001b[31mFileNotFoundError\u001b[39m: [WinError 3] El sistema no puede encontrar la ruta especificada: 'carpeta_b4'"
     ]
    }
   ],
   "source": [
    "import os\n",
    "import rasterio\n",
    "from rasterio.mask import mask\n",
    "from pyproj import Transformer\n",
    "\n",
    "# === CONFIGURACIÓN ===\n",
    "folder_b4 = \"carpeta_b4\"\n",
    "folder_b8 = \"carpeta_b8\"\n",
    "folder_b11 = \"carpeta_b11\"\n",
    "\n",
    "output_b4 = \"recortadas_b4\"\n",
    "output_b8 = \"recortadas_b8\"\n",
    "output_b11 = \"recortadas_b11\"\n",
    "\n",
    "# Crear carpetas de salida si no existen\n",
    "os.makedirs(output_b4, exist_ok=True)\n",
    "os.makedirs(output_b8, exist_ok=True)\n",
    "os.makedirs(output_b11, exist_ok=True)\n",
    "\n",
    "# === COORDENADAS Y TRANSFORMACIÓN ===\n",
    "coords_wgs84 = [\n",
    "    (-75.458237, 6.015422),  # inf izq (lon, lat)\n",
    "    (-75.407993, 6.015422),  # inf der\n",
    "    (-75.407993, 6.040884),  # sup der\n",
    "    (-75.458237, 6.040884),  # sup izq\n",
    "    (-75.458237, 6.015422)   # cierre\n",
    "]\n",
    "\n",
    "transformer = Transformer.from_crs(\"EPSG:4326\", \"EPSG:32618\", always_xy=True)\n",
    "coords_utm = [transformer.transform(lon, lat) for lon, lat in coords_wgs84]\n",
    "\n",
    "polygon = {\n",
    "    \"type\": \"Polygon\",\n",
    "    \"coordinates\": [coords_utm]\n",
    "}\n",
    "\n",
    "# === FUNCIONES ===\n",
    "def recortar_guardar(input_path, output_path, polygon):\n",
    "    with rasterio.open(input_path) as src:\n",
    "        out_image, out_transform = mask(src, [polygon], crop=True)\n",
    "        out_meta = src.meta.copy()\n",
    "        out_meta.update({\n",
    "            \"driver\": \"GTiff\",\n",
    "            \"height\": out_image.shape[1],\n",
    "            \"width\": out_image.shape[2],\n",
    "            \"transform\": out_transform\n",
    "        })\n",
    "        with rasterio.open(output_path, \"w\", **out_meta) as dest:\n",
    "            dest.write(out_image)\n",
    "\n",
    "# === PROCESAMIENTO ===\n",
    "for archivo_b4 in os.listdir(folder_b4):\n",
    "    if archivo_b4.endswith(\".TIF\"):\n",
    "        ruta_b4 = os.path.join(folder_b4, archivo_b4)\n",
    "\n",
    "        # Suponemos mismo nombre base, solo cambia B4 -> B8/B11\n",
    "        archivo_b8 = archivo_b4.replace(\"B4\", \"B8\")\n",
    "        archivo_b11 = archivo_b4.replace(\"B4\", \"B11\")\n",
    "\n",
    "        ruta_b8 = os.path.join(folder_b8, archivo_b8)\n",
    "        ruta_b11 = os.path.join(folder_b11, archivo_b11)\n",
    "\n",
    "        if os.path.exists(ruta_b8) and os.path.exists(ruta_b11):\n",
    "            print(f\"✅ Procesando: {archivo_b4}, {archivo_b8}, {archivo_b11}\")\n",
    "\n",
    "            salida_b4 = os.path.join(output_b4, f\"rec_{archivo_b4}\")\n",
    "            salida_b8 = os.path.join(output_b8, f\"rec_{archivo_b8}\")\n",
    "            salida_b11 = os.path.join(output_b11, f\"rec_{archivo_b11}\")\n",
    "\n",
    "            recortar_guardar(ruta_b4, salida_b4, polygon)\n",
    "            recortar_guardar(ruta_b8, salida_b8, polygon)\n",
    "            recortar_guardar(ruta_b11, salida_b11, polygon)\n",
    "        else:\n",
    "            print(f\"❌ Faltan archivos para: {archivo_b4}\")\n"
   ]
  },
  {
   "cell_type": "code",
   "execution_count": null,
   "id": "f36d94f6",
   "metadata": {},
   "outputs": [],
   "source": []
  }
 ],
 "metadata": {
  "kernelspec": {
   "display_name": "Python 3",
   "language": "python",
   "name": "python3"
  },
  "language_info": {
   "codemirror_mode": {
    "name": "ipython",
    "version": 3
   },
   "file_extension": ".py",
   "mimetype": "text/x-python",
   "name": "python",
   "nbconvert_exporter": "python",
   "pygments_lexer": "ipython3",
   "version": "3.11.9"
  }
 },
 "nbformat": 4,
 "nbformat_minor": 5
}
